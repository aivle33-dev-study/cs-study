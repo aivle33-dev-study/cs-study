{
 "cells": [
  {
   "cell_type": "markdown",
   "metadata": {},
   "source": [
    "# OS 스터디 주차별 발표자 선정 시스템\n",
    "\n",
    "---\n",
    "\n",
    "- 참고 도서의 총 챕터 수는 15개\n",
    "- 한 챕터당 한 사람씩 발표\n",
    "- 즉, 개인당 총 3번의 발표 기회가 주어진다\n",
    "- 발표자 선정은 아래의 랜덤 알고리즘을 통해 이루어진다"
   ]
  },
  {
   "cell_type": "code",
   "execution_count": 3,
   "metadata": {},
   "outputs": [],
   "source": [
    "import numpy as np\n",
    "import pandas as pd\n",
    "\n",
    "CHAPTERS_FILE_PATH = 'OS_스터디_참고서_목차.csv'\n",
    "PRESENTERS_FILE_PATH = 'OS_스터디_주차별_발표자_명단.csv'\n",
    "\n",
    "study_members = ['성록', '예은', '지환', '태양', '형길']\n",
    "chapters = pd.read_csv(CHAPTERS_FILE_PATH)\n",
    "presenters = pd.read_csv(PRESENTERS_FILE_PATH)"
   ]
  },
  {
   "cell_type": "code",
   "execution_count": 4,
   "metadata": {},
   "outputs": [],
   "source": [
    "def flatten(li):\n",
    "    flat_list = []\n",
    "    for item in li:\n",
    "        if isinstance(item, list):\n",
    "            flat_list.extend(flatten(item))\n",
    "        else:\n",
    "            flat_list.append(item)\n",
    "    return flat_list\n",
    "\n",
    "def get_presenters(this_week_index, number_of_this_week_presenters, absentee):\n",
    "    import random\n",
    "\n",
    "    presenters_until_last_week = presenters.iloc[:this_week_index]['발표자'].values.tolist()\n",
    "    presenters_until_last_week = flatten(map(lambda x: x.split('|'), presenters_until_last_week))\n",
    "\n",
    "    temp = study_members * 3\n",
    "    for member in presenters_until_last_week:\n",
    "        if member in temp:\n",
    "            temp.remove(member)\n",
    "    \n",
    "    random.shuffle(temp)\n",
    "\n",
    "    res = []\n",
    "    while len(res) < number_of_this_week_presenters:\n",
    "        new_presenter = random.choice(temp)\n",
    "        if new_presenter not in res and new_presenter not in absentee:\n",
    "            res.append(new_presenter)\n",
    "\n",
    "    return res\n",
    "\n",
    "def generate_presenters(week, date, number_of_presenters, absentee=[]):\n",
    "    import random\n",
    "\n",
    "    this_week_index = int(week[:-2]) - 1\n",
    "    this_week_presenters = get_presenters(this_week_index, number_of_presenters, absentee)\n",
    "\n",
    "    if this_week_index == 0:\n",
    "        this_week_chapters = chapters.iloc[:number_of_presenters]['챕터명'].values.tolist()\n",
    "    else:\n",
    "        last_week_chapter_name = presenters.iloc[this_week_index - 1]['챕터명'].split('|')[-1]\n",
    "        last_week_chapter_index = chapters.loc[chapters['챕터명'] == last_week_chapter_name].index.values[0]\n",
    "        this_week_chapters = chapters.iloc[last_week_chapter_index + 1:last_week_chapter_index + 1 + number_of_presenters]['챕터명'].values.tolist()\n",
    "    \n",
    "    presenters.loc[this_week_index] = [week, date, '|'.join(this_week_presenters), '|'.join(this_week_chapters)]\n",
    "\n",
    "    # 저장\n",
    "    presenters.to_csv(PRESENTERS_FILE_PATH, index=False)\n",
    "\n",
    "    display(presenters)\n",
    "    print('=' * 50)\n",
    "    print(f'{week} 발표 명단')\n",
    "    print('---')\n",
    "    for i in range(len(this_week_presenters)):\n",
    "        print(f'{this_week_presenters[i]}: {this_week_chapters[i]}')"
   ]
  },
  {
   "cell_type": "code",
   "execution_count": 5,
   "metadata": {},
   "outputs": [],
   "source": [
    "def flatten(li):\n",
    "    flat_list = []\n",
    "    for item in li:\n",
    "        if isinstance(item, list):\n",
    "            flat_list.extend(flatten(item))\n",
    "        else:\n",
    "            flat_list.append(item)\n",
    "    return flat_list\n",
    "\n",
    "def choice_random_presenters(members, excludes, n):\n",
    "    import random\n",
    "\n",
    "    presenters = []\n",
    "    \n",
    "    while len(presenters) < n:\n",
    "        new_presenter = random.choice(members)\n",
    "        if new_presenter not in presenters and new_presenter not in excludes:\n",
    "            presenters.append(new_presenter)\n",
    "\n",
    "    return presenters\n",
    "\n",
    "def generate_presenters_v2(week, date, members=['성록', '예은', '지환', '태양', '형길'], excludes=[], n=1):\n",
    "    this_week_index = int(week[:-2]) - 1\n",
    "    this_week_presenters = choice_random_presenters(members, excludes, n)\n",
    "\n",
    "    if this_week_index == 0:\n",
    "        this_week_chapters = chapters.iloc[:n]['챕터명'].values.tolist()\n",
    "    else:\n",
    "        last_week_chapter_name = presenters.iloc[this_week_index - 1]['챕터명'].split('|')[-1]\n",
    "        last_week_chapter_index = chapters.loc[chapters['챕터명'] == last_week_chapter_name].index.values[0]\n",
    "        this_week_chapters = chapters.iloc[last_week_chapter_index + 1:last_week_chapter_index + 1 + n]['챕터명'].values.tolist()\n",
    "    \n",
    "    presenters.loc[this_week_index] = [week, date, '|'.join(this_week_presenters), '|'.join(this_week_chapters)]\n",
    "\n",
    "    # 저장\n",
    "    presenters.to_csv(PRESENTERS_FILE_PATH, index=False)\n",
    "\n",
    "    display(presenters)\n",
    "    print('=' * 50)\n",
    "    print(f'{week} 발표 명단')\n",
    "    print('---')\n",
    "    for i in range(len(this_week_presenters)):\n",
    "        print(f'{this_week_presenters[i]}: {this_week_chapters[i]}')"
   ]
  },
  {
   "cell_type": "markdown",
   "metadata": {},
   "source": [
    "## 1주차 발표자 선정"
   ]
  },
  {
   "cell_type": "code",
   "execution_count": 3,
   "metadata": {},
   "outputs": [
    {
     "data": {
      "text/html": [
       "<div>\n",
       "<style scoped>\n",
       "    .dataframe tbody tr th:only-of-type {\n",
       "        vertical-align: middle;\n",
       "    }\n",
       "\n",
       "    .dataframe tbody tr th {\n",
       "        vertical-align: top;\n",
       "    }\n",
       "\n",
       "    .dataframe thead th {\n",
       "        text-align: right;\n",
       "    }\n",
       "</style>\n",
       "<table border=\"1\" class=\"dataframe\">\n",
       "  <thead>\n",
       "    <tr style=\"text-align: right;\">\n",
       "      <th></th>\n",
       "      <th>주차</th>\n",
       "      <th>날짜</th>\n",
       "      <th>발표자</th>\n",
       "      <th>챕터명</th>\n",
       "    </tr>\n",
       "  </thead>\n",
       "  <tbody>\n",
       "    <tr>\n",
       "      <th>0</th>\n",
       "      <td>1주차</td>\n",
       "      <td>2023-08-25</td>\n",
       "      <td>형길|지환|성록</td>\n",
       "      <td>Chapter 01. 컴퓨터 구조 시작하기|Chapter 02. 데이터|Chapte...</td>\n",
       "    </tr>\n",
       "  </tbody>\n",
       "</table>\n",
       "</div>"
      ],
      "text/plain": [
       "    주차          날짜       발표자  \\\n",
       "0  1주차  2023-08-25  형길|지환|성록   \n",
       "\n",
       "                                                 챕터명  \n",
       "0  Chapter 01. 컴퓨터 구조 시작하기|Chapter 02. 데이터|Chapte...  "
      ]
     },
     "metadata": {},
     "output_type": "display_data"
    },
    {
     "name": "stdout",
     "output_type": "stream",
     "text": [
      "==================================================\n",
      "1주차 발표 명단\n",
      "---\n",
      "형길: Chapter 01. 컴퓨터 구조 시작하기\n",
      "지환: Chapter 02. 데이터\n",
      "성록: Chapter 03. 명령어\n"
     ]
    }
   ],
   "source": [
    "generate_presenters('1주차', '2023-08-25', 3, ['태양'])"
   ]
  },
  {
   "cell_type": "markdown",
   "metadata": {},
   "source": [
    "## 2주차 발표자 선정"
   ]
  },
  {
   "cell_type": "code",
   "execution_count": 9,
   "metadata": {},
   "outputs": [
    {
     "data": {
      "text/html": [
       "<div>\n",
       "<style scoped>\n",
       "    .dataframe tbody tr th:only-of-type {\n",
       "        vertical-align: middle;\n",
       "    }\n",
       "\n",
       "    .dataframe tbody tr th {\n",
       "        vertical-align: top;\n",
       "    }\n",
       "\n",
       "    .dataframe thead th {\n",
       "        text-align: right;\n",
       "    }\n",
       "</style>\n",
       "<table border=\"1\" class=\"dataframe\">\n",
       "  <thead>\n",
       "    <tr style=\"text-align: right;\">\n",
       "      <th></th>\n",
       "      <th>주차</th>\n",
       "      <th>날짜</th>\n",
       "      <th>발표자</th>\n",
       "      <th>챕터명</th>\n",
       "    </tr>\n",
       "  </thead>\n",
       "  <tbody>\n",
       "    <tr>\n",
       "      <th>0</th>\n",
       "      <td>1주차</td>\n",
       "      <td>2023-08-25</td>\n",
       "      <td>형길|지환|성록</td>\n",
       "      <td>Chapter 01. 컴퓨터 구조 시작하기|Chapter 02. 데이터|Chapte...</td>\n",
       "    </tr>\n",
       "    <tr>\n",
       "      <th>1</th>\n",
       "      <td>2주차</td>\n",
       "      <td>2023-08-31</td>\n",
       "      <td>예은|성록</td>\n",
       "      <td>Chapter 04. CPU의 작동 원리|Chapter 05. CPU 성능 향상 기법</td>\n",
       "    </tr>\n",
       "  </tbody>\n",
       "</table>\n",
       "</div>"
      ],
      "text/plain": [
       "    주차          날짜       발표자  \\\n",
       "0  1주차  2023-08-25  형길|지환|성록   \n",
       "1  2주차  2023-08-31     예은|성록   \n",
       "\n",
       "                                                 챕터명  \n",
       "0  Chapter 01. 컴퓨터 구조 시작하기|Chapter 02. 데이터|Chapte...  \n",
       "1    Chapter 04. CPU의 작동 원리|Chapter 05. CPU 성능 향상 기법  "
      ]
     },
     "metadata": {},
     "output_type": "display_data"
    },
    {
     "name": "stdout",
     "output_type": "stream",
     "text": [
      "==================================================\n",
      "2주차 발표 명단\n",
      "---\n",
      "예은: Chapter 04. CPU의 작동 원리\n",
      "성록: Chapter 05. CPU 성능 향상 기법\n"
     ]
    }
   ],
   "source": [
    "generate_presenters('2주차', '2023-08-31', 2)"
   ]
  },
  {
   "cell_type": "markdown",
   "metadata": {},
   "source": [
    "## 3주차 발표자 선정"
   ]
  },
  {
   "cell_type": "code",
   "execution_count": 9,
   "metadata": {},
   "outputs": [
    {
     "data": {
      "text/html": [
       "<div>\n",
       "<style scoped>\n",
       "    .dataframe tbody tr th:only-of-type {\n",
       "        vertical-align: middle;\n",
       "    }\n",
       "\n",
       "    .dataframe tbody tr th {\n",
       "        vertical-align: top;\n",
       "    }\n",
       "\n",
       "    .dataframe thead th {\n",
       "        text-align: right;\n",
       "    }\n",
       "</style>\n",
       "<table border=\"1\" class=\"dataframe\">\n",
       "  <thead>\n",
       "    <tr style=\"text-align: right;\">\n",
       "      <th></th>\n",
       "      <th>주차</th>\n",
       "      <th>날짜</th>\n",
       "      <th>발표자</th>\n",
       "      <th>챕터명</th>\n",
       "    </tr>\n",
       "  </thead>\n",
       "  <tbody>\n",
       "    <tr>\n",
       "      <th>0</th>\n",
       "      <td>1주차</td>\n",
       "      <td>2023-08-25</td>\n",
       "      <td>형길|지환|성록</td>\n",
       "      <td>Chapter 01. 컴퓨터 구조 시작하기|Chapter 02. 데이터|Chapte...</td>\n",
       "    </tr>\n",
       "    <tr>\n",
       "      <th>1</th>\n",
       "      <td>2주차</td>\n",
       "      <td>2023-08-31</td>\n",
       "      <td>예은|성록</td>\n",
       "      <td>Chapter 04. CPU의 작동 원리|Chapter 05. CPU 성능 향상 기법</td>\n",
       "    </tr>\n",
       "    <tr>\n",
       "      <th>2</th>\n",
       "      <td>3주차</td>\n",
       "      <td>2023-09-07</td>\n",
       "      <td>태양|형길|예은</td>\n",
       "      <td>Chapter 06. 메모리와 캐시 메모리|Chapter 07. 보조기억장치|Cha...</td>\n",
       "    </tr>\n",
       "    <tr>\n",
       "      <th>3</th>\n",
       "      <td>4주차</td>\n",
       "      <td>2023-09-15</td>\n",
       "      <td>형길|성록</td>\n",
       "      <td>Chapter 10. 프로세스와 스레드|Chapter 11. CPU 스케줄링</td>\n",
       "    </tr>\n",
       "  </tbody>\n",
       "</table>\n",
       "</div>"
      ],
      "text/plain": [
       "    주차          날짜       발표자  \\\n",
       "0  1주차  2023-08-25  형길|지환|성록   \n",
       "1  2주차  2023-08-31     예은|성록   \n",
       "2  3주차  2023-09-07  태양|형길|예은   \n",
       "3  4주차  2023-09-15     형길|성록   \n",
       "\n",
       "                                                 챕터명  \n",
       "0  Chapter 01. 컴퓨터 구조 시작하기|Chapter 02. 데이터|Chapte...  \n",
       "1    Chapter 04. CPU의 작동 원리|Chapter 05. CPU 성능 향상 기법  \n",
       "2  Chapter 06. 메모리와 캐시 메모리|Chapter 07. 보조기억장치|Cha...  \n",
       "3         Chapter 10. 프로세스와 스레드|Chapter 11. CPU 스케줄링  "
      ]
     },
     "metadata": {},
     "output_type": "display_data"
    },
    {
     "name": "stdout",
     "output_type": "stream",
     "text": [
      "==================================================\n",
      "3주차 발표 명단\n",
      "---\n",
      "태양: Chapter 06. 메모리와 캐시 메모리\n",
      "형길: Chapter 07. 보조기억장치\n",
      "예은: Chapter 08. 입출력장치\n"
     ]
    }
   ],
   "source": [
    "generate_presenters('3주차', '2023-09-07', 3)"
   ]
  },
  {
   "cell_type": "markdown",
   "metadata": {},
   "source": [
    "## 4주차 발표자 선정"
   ]
  },
  {
   "cell_type": "code",
   "execution_count": 34,
   "metadata": {},
   "outputs": [
    {
     "data": {
      "text/html": [
       "<div>\n",
       "<style scoped>\n",
       "    .dataframe tbody tr th:only-of-type {\n",
       "        vertical-align: middle;\n",
       "    }\n",
       "\n",
       "    .dataframe tbody tr th {\n",
       "        vertical-align: top;\n",
       "    }\n",
       "\n",
       "    .dataframe thead th {\n",
       "        text-align: right;\n",
       "    }\n",
       "</style>\n",
       "<table border=\"1\" class=\"dataframe\">\n",
       "  <thead>\n",
       "    <tr style=\"text-align: right;\">\n",
       "      <th></th>\n",
       "      <th>주차</th>\n",
       "      <th>날짜</th>\n",
       "      <th>발표자</th>\n",
       "      <th>챕터명</th>\n",
       "    </tr>\n",
       "  </thead>\n",
       "  <tbody>\n",
       "    <tr>\n",
       "      <th>0</th>\n",
       "      <td>1주차</td>\n",
       "      <td>2023-08-25</td>\n",
       "      <td>형길|지환|성록</td>\n",
       "      <td>Chapter 01. 컴퓨터 구조 시작하기|Chapter 02. 데이터|Chapte...</td>\n",
       "    </tr>\n",
       "    <tr>\n",
       "      <th>1</th>\n",
       "      <td>2주차</td>\n",
       "      <td>2023-08-31</td>\n",
       "      <td>예은|성록</td>\n",
       "      <td>Chapter 04. CPU의 작동 원리|Chapter 05. CPU 성능 향상 기법</td>\n",
       "    </tr>\n",
       "    <tr>\n",
       "      <th>2</th>\n",
       "      <td>3주차</td>\n",
       "      <td>2023-09-07</td>\n",
       "      <td>태양|형길|예은</td>\n",
       "      <td>Chapter 06. 메모리와 캐시 메모리|Chapter 07. 보조기억장치|Cha...</td>\n",
       "    </tr>\n",
       "    <tr>\n",
       "      <th>3</th>\n",
       "      <td>4주차</td>\n",
       "      <td>2023-09-14</td>\n",
       "      <td>형길|성록</td>\n",
       "      <td>Chapter 09. 운영체제 시작하기|Chapter 10. 프로세스와 스레드</td>\n",
       "    </tr>\n",
       "  </tbody>\n",
       "</table>\n",
       "</div>"
      ],
      "text/plain": [
       "    주차          날짜       발표자  \\\n",
       "0  1주차  2023-08-25  형길|지환|성록   \n",
       "1  2주차  2023-08-31     예은|성록   \n",
       "2  3주차  2023-09-07  태양|형길|예은   \n",
       "3  4주차  2023-09-14     형길|성록   \n",
       "\n",
       "                                                 챕터명  \n",
       "0  Chapter 01. 컴퓨터 구조 시작하기|Chapter 02. 데이터|Chapte...  \n",
       "1    Chapter 04. CPU의 작동 원리|Chapter 05. CPU 성능 향상 기법  \n",
       "2  Chapter 06. 메모리와 캐시 메모리|Chapter 07. 보조기억장치|Cha...  \n",
       "3        Chapter 09. 운영체제 시작하기|Chapter 10. 프로세스와 스레드  "
      ]
     },
     "metadata": {},
     "output_type": "display_data"
    },
    {
     "name": "stdout",
     "output_type": "stream",
     "text": [
      "==================================================\n",
      "4주차 발표 명단\n",
      "---\n",
      "형길: Chapter 09. 운영체제 시작하기\n",
      "성록: Chapter 10. 프로세스와 스레드\n"
     ]
    }
   ],
   "source": [
    "generate_presenters('4주차', '2023-09-14', 2, ['지환', '예은'])"
   ]
  },
  {
   "cell_type": "markdown",
   "metadata": {},
   "source": [
    "## 5주차 발표자 선정"
   ]
  },
  {
   "cell_type": "code",
   "execution_count": 6,
   "metadata": {},
   "outputs": [
    {
     "data": {
      "text/html": [
       "<div>\n",
       "<style scoped>\n",
       "    .dataframe tbody tr th:only-of-type {\n",
       "        vertical-align: middle;\n",
       "    }\n",
       "\n",
       "    .dataframe tbody tr th {\n",
       "        vertical-align: top;\n",
       "    }\n",
       "\n",
       "    .dataframe thead th {\n",
       "        text-align: right;\n",
       "    }\n",
       "</style>\n",
       "<table border=\"1\" class=\"dataframe\">\n",
       "  <thead>\n",
       "    <tr style=\"text-align: right;\">\n",
       "      <th></th>\n",
       "      <th>주차</th>\n",
       "      <th>날짜</th>\n",
       "      <th>발표자</th>\n",
       "      <th>챕터명</th>\n",
       "    </tr>\n",
       "  </thead>\n",
       "  <tbody>\n",
       "    <tr>\n",
       "      <th>0</th>\n",
       "      <td>1주차</td>\n",
       "      <td>2023-08-25</td>\n",
       "      <td>형길|지환|성록</td>\n",
       "      <td>Chapter 01. 컴퓨터 구조 시작하기|Chapter 02. 데이터|Chapte...</td>\n",
       "    </tr>\n",
       "    <tr>\n",
       "      <th>1</th>\n",
       "      <td>2주차</td>\n",
       "      <td>2023-08-31</td>\n",
       "      <td>예은|성록</td>\n",
       "      <td>Chapter 04. CPU의 작동 원리|Chapter 05. CPU 성능 향상 기법</td>\n",
       "    </tr>\n",
       "    <tr>\n",
       "      <th>2</th>\n",
       "      <td>3주차</td>\n",
       "      <td>2023-09-07</td>\n",
       "      <td>태양|형길|예은</td>\n",
       "      <td>Chapter 06. 메모리와 캐시 메모리|Chapter 07. 보조기억장치|Cha...</td>\n",
       "    </tr>\n",
       "    <tr>\n",
       "      <th>3</th>\n",
       "      <td>4주차</td>\n",
       "      <td>2023-09-14</td>\n",
       "      <td>형길|성록</td>\n",
       "      <td>Chapter 09. 운영체제 시작하기|Chapter 10. 프로세스와 스레드</td>\n",
       "    </tr>\n",
       "    <tr>\n",
       "      <th>4</th>\n",
       "      <td>5주차</td>\n",
       "      <td>2023-09-21</td>\n",
       "      <td>태양|형길|예은</td>\n",
       "      <td>Chapter 11. CPU 스케줄링|Chapter 12. 프로세스 동기화|Chap...</td>\n",
       "    </tr>\n",
       "  </tbody>\n",
       "</table>\n",
       "</div>"
      ],
      "text/plain": [
       "    주차          날짜       발표자  \\\n",
       "0  1주차  2023-08-25  형길|지환|성록   \n",
       "1  2주차  2023-08-31     예은|성록   \n",
       "2  3주차  2023-09-07  태양|형길|예은   \n",
       "3  4주차  2023-09-14     형길|성록   \n",
       "4  5주차  2023-09-21  태양|형길|예은   \n",
       "\n",
       "                                                 챕터명  \n",
       "0  Chapter 01. 컴퓨터 구조 시작하기|Chapter 02. 데이터|Chapte...  \n",
       "1    Chapter 04. CPU의 작동 원리|Chapter 05. CPU 성능 향상 기법  \n",
       "2  Chapter 06. 메모리와 캐시 메모리|Chapter 07. 보조기억장치|Cha...  \n",
       "3        Chapter 09. 운영체제 시작하기|Chapter 10. 프로세스와 스레드  \n",
       "4  Chapter 11. CPU 스케줄링|Chapter 12. 프로세스 동기화|Chap...  "
      ]
     },
     "metadata": {},
     "output_type": "display_data"
    },
    {
     "name": "stdout",
     "output_type": "stream",
     "text": [
      "==================================================\n",
      "5주차 발표 명단\n",
      "---\n",
      "태양: Chapter 11. CPU 스케줄링\n",
      "형길: Chapter 12. 프로세스 동기화\n",
      "예은: Chapter 13. 교착 상태\n"
     ]
    }
   ],
   "source": [
    "generate_presenters_v2('5주차', '2023-09-21', excludes=['지환', '성록'], n=3)"
   ]
  },
  {
   "cell_type": "markdown",
   "metadata": {},
   "source": [
    "## 6주차 발표자 선정"
   ]
  },
  {
   "cell_type": "code",
   "execution_count": null,
   "metadata": {},
   "outputs": [],
   "source": [
    "generate_presenters_v2('6주차', '2023-09-27', excludes=['지환'], n=2)"
   ]
  },
  {
   "cell_type": "markdown",
   "metadata": {},
   "source": [
    "## 결과 저장하기"
   ]
  },
  {
   "cell_type": "code",
   "execution_count": 7,
   "metadata": {},
   "outputs": [],
   "source": [
    "! git add ."
   ]
  },
  {
   "cell_type": "code",
   "execution_count": 8,
   "metadata": {},
   "outputs": [
    {
     "name": "stdout",
     "output_type": "stream",
     "text": [
      "[main d802460] docs: OS 스터디 5주차 발표자 선정\n",
      " 1 file changed, 105 insertions(+), 6 deletions(-)\n"
     ]
    }
   ],
   "source": [
    "! git commit -m \"docs: OS 스터디 5주차 발표자 선정\""
   ]
  },
  {
   "cell_type": "code",
   "execution_count": 9,
   "metadata": {},
   "outputs": [
    {
     "name": "stdout",
     "output_type": "stream",
     "text": [
      "Enumerating objects: 7, done.\n",
      "Counting objects: 100% (7/7), done.\n",
      "Delta compression using up to 2 threads\n",
      "Compressing objects: 100% (4/4), done.\n",
      "Writing objects: 100% (4/4), 675 bytes | 675.00 KiB/s, done.\n",
      "Total 4 (delta 3), reused 0 (delta 0), pack-reused 0\n",
      "remote: Resolving deltas: 100% (3/3), completed with 3 local objects.\u001b[K\n",
      "remote: Bypassed rule violations for refs/heads/main:\u001b[K\n",
      "remote: \n",
      "remote: - Changes must be made through a pull request.\u001b[K\n",
      "remote: \n",
      "To https://github.com/aivle33-dev-study/cs-study\n",
      "   7edac00..d802460  main -> main\n"
     ]
    }
   ],
   "source": [
    "! git push origin main"
   ]
  }
 ],
 "metadata": {
  "kernelspec": {
   "display_name": "Python 3 (ipykernel)",
   "language": "python",
   "name": "python3"
  },
  "language_info": {
   "codemirror_mode": {
    "name": "ipython",
    "version": 3
   },
   "file_extension": ".py",
   "mimetype": "text/x-python",
   "name": "python",
   "nbconvert_exporter": "python",
   "pygments_lexer": "ipython3",
   "version": "3.10.8"
  },
  "orig_nbformat": 4
 },
 "nbformat": 4,
 "nbformat_minor": 2
}
