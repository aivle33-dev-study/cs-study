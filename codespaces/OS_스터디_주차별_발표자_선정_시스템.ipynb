{
 "cells": [
  {
   "cell_type": "markdown",
   "metadata": {},
   "source": [
    "# OS 스터디 주차별 발표자 선정 시스템\n",
    "\n",
    "---\n",
    "\n",
    "- 참고 도서의 총 챕터 수는 15개\n",
    "- 한 챕터당 한 사람씩 발표\n",
    "- 즉, 개인당 총 3번의 발표 기회가 주어진다\n",
    "- 발표자 선정은 아래의 랜덤 알고리즘을 통해 이루어진다"
   ]
  },
  {
   "cell_type": "code",
   "execution_count": 9,
   "metadata": {},
   "outputs": [],
   "source": [
    "import numpy as np\n",
    "import pandas as pd\n",
    "\n",
    "CHAPTERS_FILE_PATH = 'codespaces/OS_스터디_참고서_목차.csv'\n",
    "PRESENTERS_FILE_PATH = 'codespaces/OS_스터디_주차별_발표자_명단.csv'\n",
    "\n",
    "study_members = ['성록', '예은', '지환', '태양', '형길']\n",
    "chapters = pd.read_csv(CHAPTERS_FILE_PATH)\n",
    "presenters = pd.read_csv(PRESENTERS_FILE_PATH)"
   ]
  },
  {
   "cell_type": "code",
   "execution_count": 23,
   "metadata": {},
   "outputs": [],
   "source": [
    "def flatten(li):\n",
    "    flat_list = []\n",
    "    for item in li:\n",
    "        if isinstance(item, list):\n",
    "            flat_list.extend(flatten(item))\n",
    "        else:\n",
    "            flat_list.append(item)\n",
    "    return flat_list\n",
    "\n",
    "def get_presenters(this_week_index, number_of_this_week_presenters, absentee):\n",
    "    import random\n",
    "\n",
    "    presenters_until_last_week = presenters.iloc[:this_week_index]['발표자'].values.tolist()\n",
    "    presenters_until_last_week = flatten(map(lambda x: x.split('|'), presenters_until_last_week))\n",
    "\n",
    "    temp = study_members * 3\n",
    "    for member in presenters_until_last_week:\n",
    "        if member in temp:\n",
    "            temp.remove(member)\n",
    "    \n",
    "    random.shuffle(temp)\n",
    "\n",
    "    res = []\n",
    "    while len(res) < number_of_this_week_presenters:\n",
    "        new_presenter = random.choice(temp)\n",
    "        if new_presenter not in res and new_presenter not in absentee:\n",
    "            res.append(new_presenter)\n",
    "\n",
    "    return res\n",
    "\n",
    "def generate_presenters(week, date, number_of_presenters, absentee=[]):\n",
    "    import random\n",
    "\n",
    "    this_week_index = int(week[:-2]) - 1\n",
    "    this_week_presenters = get_presenters(this_week_index, number_of_presenters, absentee)\n",
    "\n",
    "    if this_week_index == 0:\n",
    "        this_week_chapters = chapters.iloc[:number_of_presenters]['챕터명'].values.tolist()\n",
    "    else:\n",
    "        last_week_chapter_name = presenters.iloc[this_week_index - 1]['챕터명'].split('|')[-1]\n",
    "        last_week_chapter_index = chapters.loc[chapters['챕터명'] == last_week_chapter_name].index.values[0]\n",
    "        this_week_chapters = chapters.iloc[last_week_chapter_index:last_week_chapter_index + number_of_presenters]['챕터명'].value.tolist()\n",
    "    \n",
    "    presenters.loc[this_week_index] = [week, date, '|'.join(this_week_presenters), '|'.join(this_week_chapters)]\n",
    "\n",
    "    # 저장\n",
    "    presenters.to_csv(PRESENTERS_FILE_PATH, index=False)\n",
    "\n",
    "    display(presenters)\n",
    "    print('=' * 50)\n",
    "    print(f'{week} 발표 명단')\n",
    "    print('---')\n",
    "    for i in range(len(this_week_presenters)):\n",
    "        print(f'{this_week_presenters[i]}: {this_week_chapters[i]}')\n"
   ]
  },
  {
   "cell_type": "markdown",
   "metadata": {},
   "source": [
    "## 1주차 발표자 선정"
   ]
  },
  {
   "cell_type": "code",
   "execution_count": null,
   "metadata": {},
   "outputs": [],
   "source": [
    "generate_presenters('1주차', '2023-08-25', 3, ['지환', '태양'])"
   ]
  },
  {
   "cell_type": "markdown",
   "metadata": {},
   "source": [
    "## 결과 저장하기"
   ]
  },
  {
   "cell_type": "code",
   "execution_count": 29,
   "metadata": {},
   "outputs": [
    {
     "name": "stdout",
     "output_type": "stream",
     "text": [
      "On branch main\n",
      "Your branch is up to date with 'origin/main'.\n",
      "\n",
      "nothing to commit, working tree clean\n",
      "Everything up-to-date\n"
     ]
    }
   ],
   "source": [
    "# add files\n",
    "! git add .\n",
    "! git commit -m \"OS 스터디 주차별 발표자 선정 시스템 코드 파일 생성 및 초안 작성\"\n",
    "! git push"
   ]
  },
  {
   "cell_type": "code",
   "execution_count": 29,
   "metadata": {},
   "outputs": [],
   "source": [
    "! git add ."
   ]
  },
  {
   "cell_type": "code",
   "execution_count": 30,
   "metadata": {},
   "outputs": [
    {
     "name": "stdout",
     "output_type": "stream",
     "text": [
      "On branch main\n",
      "Your branch is up to date with 'origin/main'.\n",
      "\n",
      "Changes to be committed:\n",
      "  (use \"git restore --staged <file>...\" to unstage)\n",
      "\t\u001b[32mmodified:   \"codespaces/OS_\\354\\212\\244\\355\\204\\260\\353\\224\\224_\\354\\243\\274\\354\\260\\250\\353\\263\\204_\\353\\260\\234\\355\\221\\234\\354\\236\\220_\\353\\252\\205\\353\\213\\250.csv\"\u001b[m\n",
      "\n"
     ]
    }
   ],
   "source": [
    "! git commit -m \"docs: 1주차 발표자 선정\""
   ]
  },
  {
   "cell_type": "code",
   "execution_count": null,
   "metadata": {},
   "outputs": [],
   "source": [
    "! git push"
   ]
  }
 ],
 "metadata": {
  "kernelspec": {
   "display_name": "Python 3 (ipykernel)",
   "language": "python",
   "name": "python3"
  },
  "language_info": {
   "codemirror_mode": {
    "name": "ipython",
    "version": 3
   },
   "file_extension": ".py",
   "mimetype": "text/x-python",
   "name": "python",
   "nbconvert_exporter": "python",
   "pygments_lexer": "ipython3",
   "version": "3.10.8"
  },
  "orig_nbformat": 4
 },
 "nbformat": 4,
 "nbformat_minor": 2
}
