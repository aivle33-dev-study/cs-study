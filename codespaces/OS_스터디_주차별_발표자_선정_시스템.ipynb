{
 "cells": [
  {
   "cell_type": "markdown",
   "metadata": {},
   "source": [
    "# OS 스터디 주차별 발표자 선정 시스템\n",
    "\n",
    "---\n",
    "\n",
    "- 참고 도서의 총 챕터 수는 15개\n",
    "- 한 챕터당 한 사람씩 발표\n",
    "- 즉, 개인당 총 3번의 발표 기회가 주어진다\n",
    "- 발표자 선정은 아래의 랜덤 알고리즘을 통해 이루어진다"
   ]
  },
  {
   "cell_type": "code",
   "execution_count": 12,
   "metadata": {},
   "outputs": [],
   "source": [
    "import numpy as np\n",
    "import pandas as pd\n",
    "\n",
    "CHAPTERS_FILE_PATH = 'codespaces/OS_스터디_참고서_목차.csv'\n",
    "PRESENTERS_FILE_PATH = 'codespaces/OS_스터디_주차별_발표자_명단.csv'\n",
    "\n",
    "study_members = ['성록', '에은', '지환', '태양', '형길']\n",
    "chapters = pd.read_csv(CHAPTERS_FILE_PATH)\n",
    "presenters = pd.read_csv(PRESENTERS_FILE_PATH)"
   ]
  },
  {
   "cell_type": "code",
   "execution_count": 13,
   "metadata": {},
   "outputs": [],
   "source": [
    "def choose_presenters(week, date, number_of_presenters, absentee=[]):\n",
    "    import random\n",
    "\n",
    "    this_week_presenters = [random.choice(study_members) for _ in range(number_of_presenters)]\n",
    "    return this_week_presenters"
   ]
  },
  {
   "cell_type": "markdown",
   "metadata": {},
   "source": [
    "## 1주차 발표자 선정"
   ]
  },
  {
   "cell_type": "code",
   "execution_count": 14,
   "metadata": {},
   "outputs": [
    {
     "data": {
      "text/plain": [
       "['지환', '형길', '형길']"
      ]
     },
     "execution_count": 14,
     "metadata": {},
     "output_type": "execute_result"
    }
   ],
   "source": [
    "choose_presenters('1주차', '2023-08-25', 3)"
   ]
  },
  {
   "cell_type": "markdown",
   "metadata": {},
   "source": [
    "## 결과 저장하기"
   ]
  },
  {
   "cell_type": "code",
   "execution_count": 29,
   "metadata": {},
   "outputs": [
    {
     "name": "stdout",
     "output_type": "stream",
     "text": [
      "On branch main\n",
      "Your branch is up to date with 'origin/main'.\n",
      "\n",
      "nothing to commit, working tree clean\n",
      "Everything up-to-date\n"
     ]
    }
   ],
   "source": [
    "# add files\n",
    "! git add .\n",
    "! git commit -m \"OS 스터디 주차별 발표자 선정 시스템 코드 파일 생성 및 초안 작성\"\n",
    "! git push"
   ]
  }
 ],
 "metadata": {
  "kernelspec": {
   "display_name": "Python 3 (ipykernel)",
   "language": "python",
   "name": "python3"
  },
  "language_info": {
   "codemirror_mode": {
    "name": "ipython",
    "version": 3
   },
   "file_extension": ".py",
   "mimetype": "text/x-python",
   "name": "python",
   "nbconvert_exporter": "python",
   "pygments_lexer": "ipython3",
   "version": "3.10.8"
  },
  "orig_nbformat": 4
 },
 "nbformat": 4,
 "nbformat_minor": 2
}
